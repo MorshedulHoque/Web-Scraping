{
  "nbformat": 4,
  "nbformat_minor": 0,
  "metadata": {
    "colab": {
      "provenance": [],
      "authorship_tag": "ABX9TyPwtWy+FJ4yo+crgf1aH0ED",
      "include_colab_link": true
    },
    "kernelspec": {
      "name": "python3",
      "display_name": "Python 3"
    },
    "language_info": {
      "name": "python"
    }
  },
  "cells": [
    {
      "cell_type": "markdown",
      "metadata": {
        "id": "view-in-github",
        "colab_type": "text"
      },
      "source": [
        "<a href=\"https://colab.research.google.com/github/MorshedulHoque/Web-Scrapping/blob/main/Web_scrapping_with_Beautiful_Soap.ipynb\" target=\"_parent\"><img src=\"https://colab.research.google.com/assets/colab-badge.svg\" alt=\"Open In Colab\"/></a>"
      ]
    },
    {
      "cell_type": "markdown",
      "source": [
        "**Import**"
      ],
      "metadata": {
        "id": "k9b9oELeETyS"
      }
    },
    {
      "cell_type": "code",
      "execution_count": 1,
      "metadata": {
        "id": "iPuvokDQEEUj"
      },
      "outputs": [],
      "source": [
        "from bs4 import BeautifulSoup \n",
        "import requests"
      ]
    },
    {
      "cell_type": "markdown",
      "source": [
        "**Send request to the website and get response**"
      ],
      "metadata": {
        "id": "5nG5tPrtEdLK"
      }
    },
    {
      "cell_type": "code",
      "source": [
        "website = 'https://subslikescript.com/movie/Titanic-120338'\n",
        "result = requests.get(website)     \n",
        "content = result.text\n",
        "soup = BeautifulSoup(content, 'lxml')"
      ],
      "metadata": {
        "id": "i0vd6iqmEWom"
      },
      "execution_count": 3,
      "outputs": []
    },
    {
      "cell_type": "markdown",
      "source": [
        "**Select the specific section with tag**"
      ],
      "metadata": {
        "id": "I4eHvxIjF0Ha"
      }
    },
    {
      "cell_type": "code",
      "source": [
        "script = soup.find('div', class_= 'full-script')\n",
        "transcript = script.get_text(strip=True, separator=' ')"
      ],
      "metadata": {
        "id": "bB0eUc1dEWrq"
      },
      "execution_count": 4,
      "outputs": []
    },
    {
      "cell_type": "markdown",
      "source": [
        "**Save the scrapped file**"
      ],
      "metadata": {
        "id": "lFenHw7eGEw5"
      }
    },
    {
      "cell_type": "code",
      "source": [
        "with open('titanic.txt', 'w', encoding=\"utf-8\") as file:\n",
        "    file.write(transcript)"
      ],
      "metadata": {
        "id": "3cb3Vtw7EWuj"
      },
      "execution_count": 7,
      "outputs": []
    }
  ]
}